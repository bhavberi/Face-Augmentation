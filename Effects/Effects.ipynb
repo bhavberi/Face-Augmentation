{
 "cells": [
  {
   "cell_type": "code",
   "execution_count": 1,
   "metadata": {},
   "outputs": [],
   "source": [
    "import os\n",
    "import cv2\n",
    "import math\n",
    "import numpy as np\n",
    "import matplotlib.pyplot as plt"
   ]
  },
  {
   "cell_type": "code",
   "execution_count": 2,
   "metadata": {},
   "outputs": [],
   "source": [
    "def gradient_blur(img):\n",
    "    # Get the center of the image\n",
    "    h, w, _ = img.shape\n",
    "    cy, cx = h // 2, w // 2\n",
    "    \n",
    "    # Calculate a normalized radius for each pixel\n",
    "    y_idxs, x_idxs = np.ogrid[:h, :w]\n",
    "    normalized_radius = np.sqrt((x_idxs - cx)**2 + (y_idxs - cy)**2) / np.sqrt(cx**2 + cy**2)\n",
    "    \n",
    "    # Divide the image into eight blur levels\n",
    "    blur_levels = np.clip(normalized_radius * 8, 0, 7).astype(np.int_)\n",
    "    \n",
    "    # Blur the image eight times with varying standard deviations\n",
    "    blurred_images = [cv2.GaussianBlur(img, (0, 0), (i+1)/2) for i in range(8)]\n",
    "    \n",
    "    # Combine the blurred images based on the blur level of each pixel\n",
    "    combined_blurred = np.zeros_like(img)\n",
    "    for i in range(8):\n",
    "        mask = blur_levels == i\n",
    "        combined_blurred[mask] = blurred_images[i][mask]\n",
    "    \n",
    "    return combined_blurred\n"
   ]
  },
  {
   "cell_type": "code",
   "execution_count": 3,
   "metadata": {},
   "outputs": [],
   "source": [
    "imgs = [cv2.imread(f'../images/{i}.jpg') for i in range(1, 4)]\n",
    "blurred_imgs = [gradient_blur(img) for img in imgs]\n",
    "os.makedirs('gradient_blur', exist_ok=True)\n",
    "for i, img in enumerate(blurred_imgs):\n",
    "    cv2.imwrite(f'gradient_blur/{i+1}.jpg', img)"
   ]
  },
  {
   "cell_type": "code",
   "execution_count": 4,
   "metadata": {},
   "outputs": [],
   "source": [
    "def vignetting(img, d=1.0):\n",
    "    h, w, _ = img.shape\n",
    "    cy, cx = h // 2, w // 2\n",
    "\n",
    "    # Calculate the distance of each pixel from the center\n",
    "    y_idxs, x_idxs = np.ogrid[:h, :w]\n",
    "    radius = np.sqrt((x_idxs - cx)**2 + (y_idxs - cy)**2) / np.sqrt(cx**2 + cy**2)\n",
    "\n",
    "    # Calculate the angle theta\n",
    "    theta = radius / d\n",
    "\n",
    "    # Compute the vignetting mask using cos^4(theta)\n",
    "    vignette = np.cos(theta)**4\n",
    "    vignette = vignette[..., np.newaxis]\n",
    "\n",
    "    return (img*vignette).astype(np.uint8)"
   ]
  },
  {
   "cell_type": "code",
   "execution_count": 5,
   "metadata": {},
   "outputs": [],
   "source": [
    "imgs = [cv2.imread(f'../images/{i}.jpg') for i in range(1, 4)]\n",
    "blurred_imgs = [vignetting(img) for img in imgs]\n",
    "os.makedirs('vignette', exist_ok=True)\n",
    "for i, img in enumerate(blurred_imgs):\n",
    "    cv2.imwrite(f'vignette/{i+1}.jpg', img)"
   ]
  },
  {
   "cell_type": "code",
   "execution_count": 6,
   "metadata": {},
   "outputs": [],
   "source": [
    "def convert_K_to_RGB(colour_temperature):\n",
    "    \"\"\"\n",
    "    Converts from K to RGB, algorithm courtesy of \n",
    "    http://www.tannerhelland.com/4435/convert-temperature-rgb-algorithm-code/\n",
    "    \"\"\"\n",
    "    #range check\n",
    "    if colour_temperature < 1000: \n",
    "        colour_temperature = 1000\n",
    "    elif colour_temperature > 40000:\n",
    "        colour_temperature = 40000\n",
    "    \n",
    "    tmp_internal = colour_temperature / 100.0\n",
    "    \n",
    "    # red \n",
    "    if tmp_internal <= 66:\n",
    "        red = 255\n",
    "    else:\n",
    "        tmp_red = 329.698727446 * math.pow(tmp_internal - 60, -0.1332047592)\n",
    "        if tmp_red < 0:\n",
    "            red = 0\n",
    "        elif tmp_red > 255:\n",
    "            red = 255\n",
    "        else:\n",
    "            red = tmp_red\n",
    "    \n",
    "    # green\n",
    "    if tmp_internal <=66:\n",
    "        tmp_green = 99.4708025861 * math.log(tmp_internal) - 161.1195681661\n",
    "        if tmp_green < 0:\n",
    "            green = 0\n",
    "        elif tmp_green > 255:\n",
    "            green = 255\n",
    "        else:\n",
    "            green = tmp_green\n",
    "    else:\n",
    "        tmp_green = 288.1221695283 * math.pow(tmp_internal - 60, -0.0755148492)\n",
    "        if tmp_green < 0:\n",
    "            green = 0\n",
    "        elif tmp_green > 255:\n",
    "            green = 255\n",
    "        else:\n",
    "            green = tmp_green\n",
    "    \n",
    "    # blue\n",
    "    if tmp_internal >=66:\n",
    "        blue = 255\n",
    "    elif tmp_internal <= 19:\n",
    "        blue = 0\n",
    "    else:\n",
    "        tmp_blue = 138.5177312231 * math.log(tmp_internal - 10) - 305.0447927307\n",
    "        if tmp_blue < 0:\n",
    "            blue = 0\n",
    "        elif tmp_blue > 255:\n",
    "            blue = 255\n",
    "        else:\n",
    "            blue = tmp_blue\n",
    "    \n",
    "    return red, green, blue\n",
    "\n",
    "def change_color_temperature(img, temperature, alpha=0.5):\n",
    "    h, w, _ = img.shape\n",
    "    color = convert_K_to_RGB(temperature)\n",
    "    overlay = np.ones((h, w, 3)) * color\n",
    "    blended = cv2.addWeighted(img, 1 - alpha, overlay.astype(np.uint8), alpha, 0)\n",
    "    return blended"
   ]
  },
  {
   "cell_type": "code",
   "execution_count": 7,
   "metadata": {},
   "outputs": [],
   "source": [
    "imgs = [cv2.imread(f'../images/{i}.jpg') for i in range(1, 4)]\n",
    "blurred_imgs = [change_color_temperature(img, 10000) for img in imgs]\n",
    "os.makedirs('color_temperature', exist_ok=True)\n",
    "for i, img in enumerate(blurred_imgs):\n",
    "    cv2.imwrite(f'color_temperature/{i+1}.jpg', img)"
   ]
  }
 ],
 "metadata": {
  "kernelspec": {
   "display_name": "pytorch-nst",
   "language": "python",
   "name": "python3"
  },
  "language_info": {
   "codemirror_mode": {
    "name": "ipython",
    "version": 3
   },
   "file_extension": ".py",
   "mimetype": "text/x-python",
   "name": "python",
   "nbconvert_exporter": "python",
   "pygments_lexer": "ipython3",
   "version": "3.10.12"
  },
  "orig_nbformat": 4
 },
 "nbformat": 4,
 "nbformat_minor": 2
}
